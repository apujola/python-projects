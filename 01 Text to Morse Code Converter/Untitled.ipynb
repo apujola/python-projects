{
 "cells": [
  {
   "cell_type": "code",
   "execution_count": 1,
   "id": "6d320c9a-af08-4d8d-a07f-28707d68cf8b",
   "metadata": {
    "tags": []
   },
   "outputs": [
    {
     "name": "stdin",
     "output_type": "stream",
     "text": [
      "Enter a word or sentence:  hola\n"
     ]
    },
    {
     "name": "stdout",
     "output_type": "stream",
     "text": [
      ".... --- .-.. .-\n"
     ]
    }
   ],
   "source": [
    "from data import morse_code\n",
    "\n",
    "def word_to_morse(string):\n",
    "    morse = []\n",
    "    for char in string.upper():\n",
    "        if char in morse_code:\n",
    "            morse.append(morse_code[char])\n",
    "        else:\n",
    "            morse.append('')\n",
    "    return ' '.join(morse)\n",
    "\n",
    "word = input(\"Enter a word or sentence: \")\n",
    "morse_word = word_to_morse(word)\n",
    "print(morse_word)"
   ]
  },
  {
   "cell_type": "code",
   "execution_count": null,
   "id": "77173fa9-40c7-4b76-ac79-4616e811d21e",
   "metadata": {},
   "outputs": [],
   "source": []
  }
 ],
 "metadata": {
  "kernelspec": {
   "display_name": "Python 3 (ipykernel)",
   "language": "python",
   "name": "python3"
  },
  "language_info": {
   "codemirror_mode": {
    "name": "ipython",
    "version": 3
   },
   "file_extension": ".py",
   "mimetype": "text/x-python",
   "name": "python",
   "nbconvert_exporter": "python",
   "pygments_lexer": "ipython3",
   "version": "3.11.1"
  }
 },
 "nbformat": 4,
 "nbformat_minor": 5
}
